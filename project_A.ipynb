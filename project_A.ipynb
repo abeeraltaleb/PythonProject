{
 "cells": [
  {
   "cell_type": "code",
   "execution_count": 1,
   "id": "100880f4",
   "metadata": {},
   "outputs": [],
   "source": [
    "# !pip install tensorflow"
   ]
  },
  {
   "cell_type": "code",
   "execution_count": 5,
   "id": "dc0b7ec7",
   "metadata": {},
   "outputs": [],
   "source": [
    "import tensorflow as tf\n",
    "from matplotlib import pyplot\n",
    "from tensorflow.keras.datasets import fashion_mnist\n",
    "import numpy as np\n",
    "from numpy import random\n",
    "from collections import Counter\n",
    "import threading\n",
    "from threading import Thread\n",
    "from time import sleep"
   ]
  },
  {
   "cell_type": "code",
   "execution_count": 3,
   "id": "0cd5a4e1",
   "metadata": {},
   "outputs": [],
   "source": [
    "# load dataset\n",
    "(trainX, trainy), (testX, testy) = fashion_mnist.load_data()\n",
    "# summarize loaded dataset\n",
    "print('Train: X=%s, y=%s' % (trainX.shape, trainy.shape))\n",
    "print('Test: X=%s, y=%s' % (testX.shape, testy.shape))\n",
    "trainX=trainX.reshape(60000,-1)\n",
    "trainX.shape\n",
    "print(trainy.shape)\n",
    "print(trainX.shape)\n"
   ]
  },
  {
   "cell_type": "code",
   "execution_count": 4,
   "id": "8c0c3fb0",
   "metadata": {},
   "outputs": [],
   "source": [
    "# # plot first few images\n",
    "# for i in range(9):\n",
    "# \t# define subplot\n",
    "# \tpyplot.subplot(330 + 1 + i)\n",
    "# \t# plot raw pixel data\n",
    "# \tpyplot.imshow(trainX[i], cmap=pyplot.get_cmap('gray'))\n",
    "# # show the figure\n",
    "# pyplot.show()"
   ]
  },
  {
   "cell_type": "code",
   "execution_count": 35,
   "id": "9e8b1834",
   "metadata": {},
   "outputs": [],
   "source": [
    "sample_X = []\n",
    "sample_y = []\n",
    "\n",
    "class ENN:\n",
    "\n",
    "    def __init__(self, X, y):\n",
    "        ## X represents the trainX\n",
    "        ## y represents the trainy\n",
    "        self.trainy = y\n",
    "        self.trainX = X\n",
    "        ## write your code here\n",
    "\n",
    "    def shuffle_1(self, X, y):\n",
    "        shuffle = np.random.permutation(len(trainX))\n",
    "        global trainX_shuffle\n",
    "        global trainy_shuffle\n",
    "        trainX_shuffle = trainX[shuffle]\n",
    "        trainy_shuffle = trainy[shuffle]\n",
    "\n",
    "    def return_one_class(self, X, Y, label, num):\n",
    "        global sample_X\n",
    "        global sample_y\n",
    "        x = []\n",
    "        y = []\n",
    "        for i in range(len(X)):\n",
    "            if label == Y[i]:\n",
    "                x.append(X[i])\n",
    "                y.append(Y[i])\n",
    "            if len(x) == num:\n",
    "                break\n",
    "        sample_X = sample_X + x\n",
    "        sample_y = sample_y + y\n",
    "\n",
    "    def threads_2(self, x, y, label, num):\n",
    "        for label in range(10):\n",
    "            t = threading.Thread(target=self.return_one_class, args=(x, y, label, num))\n",
    "            t.start()\n",
    "            t.join()\n",
    "\n",
    "    def start_ENN(self, sample_X, sample_y,k=5):\n",
    "        new_X = []\n",
    "        new_y = []\n",
    "        sample_X = np.asarray(sample_X)\n",
    "        # print(type(sample_X))\n",
    "        #print(sample_X.shape)\n",
    "        sample_y = np.asarray(sample_y)\n",
    "        for i in range(sample_X.shape[0]):\n",
    "            # print(sample_X.shape[0])\n",
    "            img = sample_X[i, :]\n",
    "            distances = np.sum(np.square(sample_X - img), axis=1)\n",
    "            #print(distances)\n",
    "            k_ind = np.argsort(distances)[:k]\n",
    "            #print(k_in)\n",
    "            k_labels = [sample_y[i] for i in k_ind]\n",
    "            #print(k_labels,\"k_labels\")\n",
    "            most_common = Counter(k_labels).most_common(1)\n",
    "            #print(most_common, \"most_common\")\n",
    "            maj_count = most_common[0][1]\n",
    "            maj_Lebel = most_common[0][0]\n",
    "            maj_less_than_2=0\n",
    "\n",
    "            if maj_count > 2 :\n",
    "                if maj_Lebel==sample_y[i]:\n",
    "                    new_X.append(img)\n",
    "                    new_y.append(maj_Lebel)\n",
    "            else:\n",
    "                maj_less_than_2=maj_less_than_2+1\n",
    "\n",
    "        ### write your code\n",
    "\n",
    "        print (len(new_X))\n",
    "        print(\"maj_less_than_2\",maj_less_than_2)\n",
    "\n",
    "        print(len(new_y))\n",
    "#         return new_X,new_y"
   ]
  },
  {
   "cell_type": "code",
   "execution_count": 36,
   "id": "10bed5b7",
   "metadata": {},
   "outputs": [
    {
     "name": "stdout",
     "output_type": "stream",
     "text": [
      "2009\n",
      "maj_less_than_2 1\n",
      "2009\n"
     ]
    }
   ],
   "source": [
    "test = ENN(trainX, trainy)\n",
    "test.shuffle_1(trainX, trainy)\n",
    "#test.return_one_class(trainX_shuffle,trainy_shuffle,label=0,num=10)\n",
    "test.threads_2(trainX_shuffle, trainy_shuffle, label=0, num=300)\n",
    "test.start_ENN(sample_X,sample_y)"
   ]
  }
 ],
 "metadata": {
  "kernelspec": {
   "display_name": "Python 3 (ipykernel)",
   "language": "python",
   "name": "python3"
  },
  "language_info": {
   "codemirror_mode": {
    "name": "ipython",
    "version": 3
   },
   "file_extension": ".py",
   "mimetype": "text/x-python",
   "name": "python",
   "nbconvert_exporter": "python",
   "pygments_lexer": "ipython3",
   "version": "3.9.12"
  }
 },
 "nbformat": 4,
 "nbformat_minor": 5
}
